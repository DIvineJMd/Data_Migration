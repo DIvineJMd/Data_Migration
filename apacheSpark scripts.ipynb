{
 "cells": [
  {
   "cell_type": "markdown",
   "metadata": {},
   "source": [
    "# Environment Setup"
   ]
  },
  {
   "cell_type": "code",
   "execution_count": 27,
   "metadata": {},
   "outputs": [],
   "source": [
    "from pyspark.sql import SparkSession\n",
    "\n",
    "# Connect to MongoDB Atlas cluster\n",
    "mongo_uri = \""\n",
    "spark = SparkSession.builder \\\n",
    "  .appName(\"MongoDBSparkConnector\") \\\n",
    "  .config(\"spark.jars.packages\", \"org.mongodb.spark:mongo-spark-connector_2.12:3.0.2\") \\\n",
    "  .config(\"spark.mongodb.input.uri\", mongo_uri) \\\n",
    "  .config(\"spark.mongodb.output.uri\", mongo_uri) \\\n",
    "  .getOrCreate()\n"
   ]
  },
  {
   "cell_type": "code",
   "execution_count": null,
   "metadata": {},
   "outputs": [],
   "source": [
    "df = spark.read \\\n",
    "    .format(\"com.mongodb.spark.sql.DefaultSource\") \\\n",
    "    .option(\"database\", \"universitydb\") \\\n",
    "    .option(\"collection\", \"students\") \\\n",
    "    .load()"
   ]
  },
  {
   "cell_type": "markdown",
   "metadata": {},
   "source": [
    "# Queries Implementations"
   ]
  },
  {
   "cell_type": "markdown",
   "metadata": {},
   "source": [
    "Fetching all students enrolled in a specific course"
   ]
  },
  {
   "cell_type": "code",
   "execution_count": 30,
   "metadata": {},
   "outputs": [
    {
     "name": "stdout",
     "output_type": "stream",
     "text": [
      "5.2\n"
     ]
    }
   ],
   "source": [
    "from pyspark.sql.functions import explode\n",
    "\n",
    "students_df = spark.read \\\n",
    "    .format(\"com.mongodb.spark.sql.DefaultSource\") \\\n",
    "    .option(\"database\", \"universitydb\") \\\n",
    "    .option(\"collection\", \"students\") \\\n",
    "    .load()\n",
    "\n",
    "start_time = time.time()\n",
    "enrolled_students = students_df.filter(\"array_contains(enrollments.courseId, 1)\") \\\n",
    "    .select(\"firstName\", \"lastName\", \"email\", \"mobile\")\n",
    "\n",
    "enrolled_students.show()\n",
    "end_time = time.time()\n",
    "execution_time = end_time - start_time\n",
    "print(execution_time)"
   ]
  },
  {
   "cell_type": "markdown",
   "metadata": {},
   "source": [
    "Calculating the average number of students enrolled in courses offered by a particular instructor"
   ]
  },
  {
   "cell_type": "code",
   "execution_count": 31,
   "metadata": {},
   "outputs": [
    {
     "name": "stdout",
     "output_type": "stream",
     "text": [
      "4.8\n"
     ]
    }
   ],
   "source": [
    "courses_df = spark.read \\\n",
    "    .format(\"com.mongodb.spark.sql.DefaultSource\") \\\n",
    "    .option(\"database\", \"universitydb\") \\\n",
    "    .option(\"collection\", \"courses\") \\\n",
    "    .load()\n",
    "start_time = time.time()\n",
    "avg_enrollment = courses_df.filter(\"instructorId == 2\") \\\n",
    "    .withColumn(\"enrollmentCount\", expr(\"size(ifnull(enrollments, array()))\")) \\\n",
    "    .groupBy(\"instructorId\") \\\n",
    "    .agg(avg(\"enrollmentCount\").alias(\"avgEnrollment\"))\n",
    "\n",
    "avg_enrollment.show()\n",
    "end_time = time.time()\n",
    "execution_time = end_time - start_time\n",
    "print(execution_time)\n"
   ]
  },
  {
   "cell_type": "markdown",
   "metadata": {},
   "source": [
    "Listing all courses offered by a specific department:"
   ]
  },
  {
   "cell_type": "code",
   "execution_count": 32,
   "metadata": {},
   "outputs": [
    {
     "name": "stdout",
     "output_type": "stream",
     "text": [
      "5.5\n"
     ]
    }
   ],
   "source": [
    "start_time = time.time()\n",
    "courses_by_department = courses_df.filter(\"departmentId == 3\") \\\n",
    "    .select(\"courseName\", \"instructorId\")\n",
    "\n",
    "courses_by_department.show()\n",
    "end_time = time.time()\n",
    "execution_time = end_time - start_time\n",
    "print(execution_time)\n"
   ]
  },
  {
   "cell_type": "markdown",
   "metadata": {},
   "source": [
    "Finding the total number of students per department"
   ]
  },
  {
   "cell_type": "code",
   "execution_count": 33,
   "metadata": {},
   "outputs": [
    {
     "name": "stdout",
     "output_type": "stream",
     "text": [
      "6.1\n"
     ]
    }
   ],
   "source": [
    "students_per_department = students_df.groupBy(\"departmentId\") \\\n",
    "    .count() \\\n",
    "    .alias(\"totalStudents\")\n",
    "\n",
    "departments_df = spark.read \\\n",
    "    .format(\"com.mongodb.spark.sql.DefaultSource\") \\\n",
    "    .option(\"database\", \"universitydb\") \\\n",
    "    .option(\"collection\", \"departments\") \\\n",
    "    .load()\n",
    "start_time = time.time()\n",
    "total_students_per_department = students_per_department.join(departments_df, students_per_department.departmentId == departments_df.departmentId) \\\n",
    "    .select(departments_df.departmentName, \"totalStudents\")\n",
    "\n",
    "total_students_per_department.show()\n",
    "end_time = time.time()\n",
    "execution_time = end_time - start_time\n",
    "print(execution_time)"
   ]
  },
  {
   "cell_type": "markdown",
   "metadata": {},
   "source": [
    "Finding instructors who have taught all BTech CSE core courses"
   ]
  },
  {
   "cell_type": "code",
   "execution_count": 34,
   "metadata": {},
   "outputs": [
    {
     "name": "stdout",
     "output_type": "stream",
     "text": [
      "5.9\n"
     ]
    }
   ],
   "source": [
    "instructors_df =  spark.read \\\n",
    "    .format(\"com.mongodb.spark.sql.DefaultSource\") \\\n",
    "    .option(\"database\", \"universitydb\") \\\n",
    "    .option(\"collection\", \"instructors\") \\\n",
    "    .load()\n",
    "start_time = time.time()\n",
    "instructors_teaching_core = instructors_df.filter(\"departmentId == 1\") \\\n",
    "    .select(\"firstName\", \"lastName\", \"email\", explode(\"courses\").alias(\"course\")) \\\n",
    "    .filter(\"course.departmentId == 1\")\n",
    "\n",
    "instructors_teaching_core.show()\n",
    "end_time = time.time()\n",
    "execution_time = end_time - start_time\n",
    "print(execution_time)"
   ]
  },
  {
   "cell_type": "markdown",
   "metadata": {},
   "source": [
    "Finding top 10 courses with the highest enrollments"
   ]
  },
  {
   "cell_type": "code",
   "execution_count": 35,
   "metadata": {},
   "outputs": [
    {
     "name": "stdout",
     "output_type": "stream",
     "text": [
      "6.4\n"
     ]
    }
   ],
   "source": [
    "start_time = time.time()\n",
    "top_courses = courses_df.withColumn(\"enrollmentCount\", expr(\"size(ifnull(enrollments, array()))\")) \\\n",
    "    .select(\"courseId\", \"courseName\", \"enrollmentCount\") \\\n",
    "    .orderBy(\"enrollmentCount\", ascending=False) \\\n",
    "    .limit(10)\n",
    "\n",
    "top_courses.show()\n",
    "end_time = time.time()\n",
    "execution_time = end_time - start_time\n",
    "print(execution_time)"
   ]
  }
 ],
 "metadata": {
  "kernelspec": {
   "display_name": "Python 3",
   "language": "python",
   "name": "python3"
  },
  "language_info": {
   "codemirror_mode": {
    "name": "ipython",
    "version": 3
   },
   "file_extension": ".py",
   "mimetype": "text/x-python",
   "name": "python",
   "nbconvert_exporter": "python",
   "pygments_lexer": "ipython3",
   "version": "3.12.6"
  }
 },
 "nbformat": 4,
 "nbformat_minor": 2
}
